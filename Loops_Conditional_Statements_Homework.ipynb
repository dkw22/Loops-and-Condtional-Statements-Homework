{
 "cells": [
  {
   "cell_type": "markdown",
   "metadata": {},
   "source": [
    "# Week 2 - Monday Lesson (variable assignment, loops, lists)"
   ]
  },
  {
   "cell_type": "markdown",
   "metadata": {},
   "source": [
    "## Tasks Today:\n",
    "\n",
    "&check; Int & Float assignments <br>\n",
    " &nbsp;&nbsp;&nbsp;&nbsp; &check; Assigning int <br>\n",
    " &nbsp;&nbsp;&nbsp;&nbsp; &check; Assigning float <br>\n",
    " &nbsp;&nbsp;&nbsp;&nbsp; &check; Performing Calculations on ints and floats <br>\n",
    " &nbsp;&nbsp;&nbsp;&nbsp;&nbsp;&nbsp;&nbsp;&nbsp; &check; Addition <br>\n",
    " &nbsp;&nbsp;&nbsp;&nbsp;&nbsp;&nbsp;&nbsp;&nbsp; &check; Subtraction <br>\n",
    " &nbsp;&nbsp;&nbsp;&nbsp;&nbsp;&nbsp;&nbsp;&nbsp; &check; Multiplication <br>\n",
    " &nbsp;&nbsp;&nbsp;&nbsp;&nbsp;&nbsp;&nbsp;&nbsp; &check; Division <br>\n",
    " &nbsp;&nbsp;&nbsp;&nbsp;&nbsp;&nbsp;&nbsp;&nbsp; &check; Floor Division <br>\n",
    " &nbsp;&nbsp;&nbsp;&nbsp;&nbsp;&nbsp;&nbsp;&nbsp; &check; Modulo <br>\n",
    " &nbsp;&nbsp;&nbsp;&nbsp;&nbsp;&nbsp;&nbsp;&nbsp; &check; Exponential <br>\n",
    "&check; String Input-Output <br>\n",
    " &nbsp;&nbsp;&nbsp;&nbsp; &check; String Assignment <br>\n",
    " &nbsp;&nbsp;&nbsp;&nbsp; &check; print() <br>\n",
    " &nbsp;&nbsp;&nbsp;&nbsp; &check; String Concatenation <br>\n",
    " &nbsp;&nbsp;&nbsp;&nbsp; &check; Type Conversion <br>\n",
    " &nbsp;&nbsp;&nbsp;&nbsp; &check; input() <br>\n",
    " &nbsp;&nbsp;&nbsp;&nbsp; &check; format() <br>\n",
    " &nbsp;&nbsp;&nbsp;&nbsp; &check; Old Way (python 2) <br>\n",
    "&check; In-Class Exercise #1</b> <br>\n",
    "&check; If Statements <br>\n",
    " &nbsp;&nbsp;&nbsp;&nbsp; &check; 'is' keyword <br>\n",
    " &nbsp;&nbsp;&nbsp;&nbsp; &check; 'in' keyword <br>\n",
    " &nbsp;&nbsp;&nbsp;&nbsp; &check; 'not in' keyword <br>\n",
    "&check; <b>In-Class Exercise #2</b> <br>\n",
    "&check; Elif Statements <br>\n",
    "&check; Else Statements <br>\n",
    "&check; <b>In-Class Exercise #3</b> <br>\n",
    "&check; For Loops <br>\n",
    " &nbsp;&nbsp;&nbsp;&nbsp; &check; Using 'in' keyword <br>\n",
    " &nbsp;&nbsp;&nbsp;&nbsp; &check; Continue Statement <br>\n",
    " &nbsp;&nbsp;&nbsp;&nbsp; &check; Break Statement <br>\n",
    " &nbsp;&nbsp;&nbsp;&nbsp; &check; Pass Statement <br>\n",
    " &nbsp;&nbsp;&nbsp;&nbsp; &check; Double For Loops <br>\n",
    "&check; While Loops <br>\n",
    " &nbsp;&nbsp;&nbsp;&nbsp; &check; Looping 'While True' <br>\n",
    " &nbsp;&nbsp;&nbsp;&nbsp; &check; While and For Loops Used Together <br>\n",
    "&check; Built-In Functions <br>\n",
    " &nbsp;&nbsp;&nbsp;&nbsp; &check; range() <br>\n",
    " &nbsp;&nbsp;&nbsp;&nbsp; &check; len() <br>\n",
    " &nbsp;&nbsp;&nbsp;&nbsp; &check; help() <br>\n",
    " &nbsp;&nbsp;&nbsp;&nbsp; &check; isinstance() <br>\n",
    " &nbsp;&nbsp;&nbsp;&nbsp; &check; abs() <br>\n",
    "&check; Try and Except <br>\n",
    "&check; Lists <br>\n",
    " &nbsp;&nbsp;&nbsp;&nbsp; &check; Declaring Lists <br>\n",
    " &nbsp;&nbsp;&nbsp;&nbsp; &check; Indexing a List <br>\n",
    " &nbsp;&nbsp;&nbsp;&nbsp; &check; .append() <br>\n",
    " &nbsp;&nbsp;&nbsp;&nbsp; &check; .insert() <br>\n",
    " &nbsp;&nbsp;&nbsp;&nbsp; &check; .pop() <br>\n",
    " &nbsp;&nbsp;&nbsp;&nbsp; &check; .remove() <br>\n",
    " &nbsp;&nbsp;&nbsp;&nbsp; &check; del() <br>\n",
    " &nbsp;&nbsp;&nbsp;&nbsp; &check; Concatenating Two Lists <br>\n",
    " &nbsp;&nbsp;&nbsp;&nbsp; &check; Lists Within Lists <br>\n",
    " &nbsp;&nbsp;&nbsp;&nbsp; &check; Looping Through Lists <br>"
   ]
  },
  {
   "cell_type": "markdown",
   "metadata": {},
   "source": [
    "### Int & Float Assignments"
   ]
  },
  {
   "cell_type": "markdown",
   "metadata": {},
   "source": [
    "##### Assigning integer"
   ]
  },
  {
   "cell_type": "code",
   "execution_count": 1,
   "metadata": {},
   "outputs": [
    {
     "name": "stdout",
     "output_type": "stream",
     "text": [
      "6\n"
     ]
    }
   ],
   "source": [
    "number = 6\n",
    "\n",
    "print(number)"
   ]
  },
  {
   "cell_type": "markdown",
   "metadata": {},
   "source": [
    "##### Assinging float"
   ]
  },
  {
   "cell_type": "code",
   "execution_count": 2,
   "metadata": {},
   "outputs": [
    {
     "name": "stdout",
     "output_type": "stream",
     "text": [
      "2.3\n"
     ]
    }
   ],
   "source": [
    "number_float = 2.3\n",
    "\n",
    "print(number_float)"
   ]
  },
  {
   "cell_type": "markdown",
   "metadata": {},
   "source": [
    "#### Performing Calculations on ints and floats"
   ]
  },
  {
   "cell_type": "markdown",
   "metadata": {},
   "source": [
    "##### Addition"
   ]
  },
  {
   "cell_type": "code",
   "execution_count": 4,
   "metadata": {},
   "outputs": [
    {
     "name": "stdout",
     "output_type": "stream",
     "text": [
      "7.4\n",
      "9.4\n"
     ]
    }
   ],
   "source": [
    "#Long Hand Version\n",
    "num1 = 2 \n",
    "num2 = 5.4\n",
    "\n",
    "result = num1 + num2\n",
    "\n",
    "print(result)\n",
    "\n",
    "#Short Hand Version\n",
    "result += 2 #result = result +2\n",
    "print(result)"
   ]
  },
  {
   "cell_type": "markdown",
   "metadata": {},
   "source": [
    "##### Subtraction"
   ]
  },
  {
   "cell_type": "code",
   "execution_count": 6,
   "metadata": {},
   "outputs": [
    {
     "name": "stdout",
     "output_type": "stream",
     "text": [
      "3.4000000000000004\n",
      "2.4000000000000004\n"
     ]
    }
   ],
   "source": [
    "#Long Hand Version\n",
    "result_diff = num2 - num1\n",
    "print(result_diff)\n",
    "\n",
    "#Short Hand Version\n",
    "result_diff -= 1 #result_diff = result_diff - 1\n",
    "print(result_diff)"
   ]
  },
  {
   "cell_type": "markdown",
   "metadata": {},
   "source": [
    "##### Multiplication"
   ]
  },
  {
   "cell_type": "code",
   "execution_count": 7,
   "metadata": {},
   "outputs": [
    {
     "name": "stdout",
     "output_type": "stream",
     "text": [
      "10.8\n",
      "21.6\n"
     ]
    }
   ],
   "source": [
    "#Long Hand Version\n",
    "result_mul = num1 * num2\n",
    "print(result_mul)\n",
    "\n",
    "#Short Hand Version\n",
    "result_mul *= 2\n",
    "print(result_mul)"
   ]
  },
  {
   "cell_type": "markdown",
   "metadata": {},
   "source": [
    "##### Division"
   ]
  },
  {
   "cell_type": "code",
   "execution_count": 14,
   "metadata": {},
   "outputs": [
    {
     "name": "stdout",
     "output_type": "stream",
     "text": [
      "2.7\n",
      "1.35\n"
     ]
    }
   ],
   "source": [
    "#Long Hand Version\n",
    "result_div = num2/num1\n",
    "print(result_div)\n",
    "\n",
    "#Short Hand Verison\n",
    "result_div /= 2\n",
    "print(result_div)"
   ]
  },
  {
   "cell_type": "markdown",
   "metadata": {},
   "source": [
    "##### Floor Division"
   ]
  },
  {
   "cell_type": "code",
   "execution_count": 11,
   "metadata": {},
   "outputs": [
    {
     "name": "stdout",
     "output_type": "stream",
     "text": [
      "2.0\n",
      "1.0\n"
     ]
    }
   ],
   "source": [
    "#Long Hand Verison\n",
    "result_floor = num2 // num1\n",
    "print(result_floor)\n",
    "\n",
    "#Short Hand Version\n",
    "result_floor //= 2\n",
    "print(result_floor)"
   ]
  },
  {
   "cell_type": "markdown",
   "metadata": {},
   "source": [
    "##### Modulo"
   ]
  },
  {
   "cell_type": "code",
   "execution_count": 13,
   "metadata": {},
   "outputs": [
    {
     "name": "stdout",
     "output_type": "stream",
     "text": [
      "1.4000000000000004\n",
      "1.4000000000000004\n"
     ]
    }
   ],
   "source": [
    "#Long Hand Version\n",
    "result_mod = num2 % num1\n",
    "print(result_mod)\n",
    "\n",
    "#Short Hand Version\n",
    "result_mod %= 2\n",
    "print(result_mod)"
   ]
  },
  {
   "cell_type": "markdown",
   "metadata": {},
   "source": [
    "##### Exponential"
   ]
  },
  {
   "cell_type": "code",
   "execution_count": 16,
   "metadata": {},
   "outputs": [
    {
     "name": "stdout",
     "output_type": "stream",
     "text": [
      "25\n",
      "625\n"
     ]
    }
   ],
   "source": [
    "#Long Hand Version\n",
    "square = 5 ** 2\n",
    "print(square)\n",
    "\n",
    "#Short Hand Version\n",
    "square **= 2\n",
    "print(square)"
   ]
  },
  {
   "cell_type": "markdown",
   "metadata": {},
   "source": [
    "### String Input-Output"
   ]
  },
  {
   "cell_type": "markdown",
   "metadata": {},
   "source": [
    "##### String Assignment"
   ]
  },
  {
   "cell_type": "code",
   "execution_count": 17,
   "metadata": {},
   "outputs": [
    {
     "name": "stdout",
     "output_type": "stream",
     "text": [
      "Devon\n"
     ]
    }
   ],
   "source": [
    "name = 'Devon'\n",
    "print(name)"
   ]
  },
  {
   "cell_type": "markdown",
   "metadata": {},
   "source": [
    "##### print() <br>\n",
    "<p>Don't forget about end=' '</p>"
   ]
  },
  {
   "cell_type": "code",
   "execution_count": 19,
   "metadata": {},
   "outputs": [
    {
     "name": "stdout",
     "output_type": "stream",
     "text": [
      "This is my first name:  Devon\n",
      "Full Name:  Devon Wehrlin"
     ]
    }
   ],
   "source": [
    "print('This is my first name: ', name)\n",
    "\n",
    "print(\"Full Name: \", name, end = ' Wehrlin')"
   ]
  },
  {
   "cell_type": "markdown",
   "metadata": {},
   "source": [
    "##### String Concatenation"
   ]
  },
  {
   "cell_type": "code",
   "execution_count": 21,
   "metadata": {},
   "outputs": [
    {
     "name": "stdout",
     "output_type": "stream",
     "text": [
      "Jane Doe\n",
      "Jane Doe Jr\n"
     ]
    }
   ],
   "source": [
    "first_name = 'Jane'\n",
    "last_name = 'Doe'\n",
    "\n",
    "full_name = first_name + \" \" + last_name\n",
    "print(full_name)\n",
    "\n",
    "#Short Hand Version\n",
    "full_name += \" Jr\"\n",
    "print(full_name)"
   ]
  },
  {
   "cell_type": "markdown",
   "metadata": {},
   "source": [
    "##### Type Conversion"
   ]
  },
  {
   "cell_type": "code",
   "execution_count": 22,
   "metadata": {},
   "outputs": [
    {
     "name": "stdout",
     "output_type": "stream",
     "text": [
      "32\n",
      "32\n",
      "\n",
      "\n",
      "<class 'str'>\n",
      "<class 'int'>\n"
     ]
    }
   ],
   "source": [
    "number_string = '32'\n",
    "\n",
    "change_type_num = int(number_string)\n",
    "print(number_string)\n",
    "print(change_type_num)\n",
    "\n",
    "print('\\n')\n",
    "print(type(number_string))\n",
    "print(type(change_type_num))"
   ]
  },
  {
   "cell_type": "markdown",
   "metadata": {},
   "source": [
    "##### input()"
   ]
  },
  {
   "cell_type": "code",
   "execution_count": 1,
   "metadata": {},
   "outputs": [
    {
     "name": "stdout",
     "output_type": "stream",
     "text": [
      "What is your age?:21\n",
      "21\n",
      "22\n"
     ]
    }
   ],
   "source": [
    "#Input will ALWAYS return a string -- ALL THE TIME\n",
    "\n",
    "age = input('What is your age?:')\n",
    "print(age)\n",
    "\n",
    "add_age = int(age) + 1\n",
    "print(add_age)"
   ]
  },
  {
   "cell_type": "markdown",
   "metadata": {},
   "source": [
    "##### format()"
   ]
  },
  {
   "cell_type": "code",
   "execution_count": 3,
   "metadata": {},
   "outputs": [
    {
     "name": "stdout",
     "output_type": "stream",
     "text": [
      "What is your age? 21\n",
      "You are 21 Devon and you are getting wiser\n",
      "21 is a great time in life!!!\n"
     ]
    }
   ],
   "source": [
    "age = input('What is your age? ')\n",
    "name = 'Devon'\n",
    "\n",
    "result_string = 'You are {} {} and you are getting wiser'.format(age,name)\n",
    "print(result_string)\n",
    "\n",
    "result_again = f'{age} is a great time in life!!!'\n",
    "print(result_again)"
   ]
  },
  {
   "cell_type": "markdown",
   "metadata": {},
   "source": [
    "##### Old Way (python 2)"
   ]
  },
  {
   "cell_type": "code",
   "execution_count": 5,
   "metadata": {},
   "outputs": [
    {
     "name": "stdout",
     "output_type": "stream",
     "text": [
      "You are 21 and you look great for your age\n"
     ]
    }
   ],
   "source": [
    "result_string2 = 'You are %s and you look great for your age' %age\n",
    "print(result_string2)"
   ]
  },
  {
   "cell_type": "markdown",
   "metadata": {},
   "source": [
    "# In-Class Exercise 1 <br>\n",
    "<p>Create a format statement that asks for color, year, make, model and prints out the results</p>"
   ]
  },
  {
   "cell_type": "code",
   "execution_count": 8,
   "metadata": {},
   "outputs": [
    {
     "name": "stdout",
     "output_type": "stream",
     "text": [
      "What is the color? blue\n",
      "What is the year? 2005\n",
      "What is the make? kia\n",
      "What is the model? rondo\n",
      "You have a blue 2005 kia rondo!!\n"
     ]
    }
   ],
   "source": [
    "color = input('What is the color? ')\n",
    "year = input('What is the year? ')\n",
    "make = input('What is the make? ')\n",
    "model = input('What is the model? ')\n",
    "\n",
    "result_car = f'You have a {color} {year} {make} {model}!!'\n",
    "print(result_car)"
   ]
  },
  {
   "cell_type": "markdown",
   "metadata": {},
   "source": [
    "### If Statements"
   ]
  },
  {
   "cell_type": "code",
   "execution_count": 9,
   "metadata": {},
   "outputs": [
    {
     "name": "stdout",
     "output_type": "stream",
     "text": [
      "Not Equal\n",
      "Num2 is greater\n"
     ]
    }
   ],
   "source": [
    "# Available operators: Greater(>), Less(<),Equal(==)\n",
    "# Greater or Equal(>=), Less or Equal (<=)\n",
    "\n",
    "# Truth Tree:\n",
    "# T && F = F\n",
    "# T && T = T\n",
    "# T || F = T\n",
    "# F || T = T\n",
    "# F || F = F\n",
    "\n",
    "num1 = 5\n",
    "num2 = 10\n",
    "\n",
    "if num2 == num1:\n",
    "    print('Equal Values')\n",
    "else:\n",
    "    print('Not Equal')\n",
    "\n",
    "if num2 >= num1:\n",
    "    print('Num2 is greater')\n",
    "elif num1 <= num2:\n",
    "    print('num1 is less than num2')"
   ]
  },
  {
   "cell_type": "markdown",
   "metadata": {},
   "source": [
    "##### 'is' keyword"
   ]
  },
  {
   "cell_type": "code",
   "execution_count": 12,
   "metadata": {
    "scrolled": true
   },
   "outputs": [
    {
     "name": "stdout",
     "output_type": "stream",
     "text": [
      "This is the number 55\n"
     ]
    }
   ],
   "source": [
    "#'is' is equal to '=='\n",
    "num3 = 55\n",
    "\n",
    "if num3 == 55:\n",
    "    print('This is the number 55')"
   ]
  },
  {
   "cell_type": "markdown",
   "metadata": {},
   "source": [
    "##### 'in' keyword"
   ]
  },
  {
   "cell_type": "code",
   "execution_count": 13,
   "metadata": {},
   "outputs": [
    {
     "name": "stdout",
     "output_type": "stream",
     "text": [
      "The character who lost everything...\n"
     ]
    }
   ],
   "source": [
    "#Check if character is in name\n",
    "char_name = 'Max Payne'\n",
    "\n",
    "if \"Max\" in char_name:\n",
    "    print('The character who lost everything...')"
   ]
  },
  {
   "cell_type": "markdown",
   "metadata": {},
   "source": [
    "##### 'not in' keyword'"
   ]
  },
  {
   "cell_type": "code",
   "execution_count": 18,
   "metadata": {},
   "outputs": [
    {
     "name": "stdout",
     "output_type": "stream",
     "text": [
      "Not here boss...\n"
     ]
    }
   ],
   "source": [
    "sega_char = 'Sonic'\n",
    "\n",
    "if 'a' not in sega_char:\n",
    "    print('Not here boss...')"
   ]
  },
  {
   "cell_type": "markdown",
   "metadata": {},
   "source": [
    "# In-Class Exercise 2 <br>\n",
    "<p>Ask user for input, check to see if the letter 'p' is in the input</p>"
   ]
  },
  {
   "cell_type": "code",
   "execution_count": 17,
   "metadata": {},
   "outputs": [
    {
     "name": "stdout",
     "output_type": "stream",
     "text": [
      "What is your name? piper\n",
      "You have a letter 'p' in your name!!\n"
     ]
    }
   ],
   "source": [
    "name = input('What is your name? ')\n",
    "name_lowercase = name.lower()\n",
    "if 'p' in name_lowercase:\n",
    "    print(\"You have a letter 'p' in your name!!\")\n",
    "else:\n",
    "    print(\"There is no letter 'p' in your name...\")"
   ]
  },
  {
   "cell_type": "markdown",
   "metadata": {},
   "source": [
    "## Using 'and'/'or' with If Statements"
   ]
  },
  {
   "cell_type": "code",
   "execution_count": 21,
   "metadata": {},
   "outputs": [
    {
     "name": "stdout",
     "output_type": "stream",
     "text": [
      "True and True\n",
      "True and False\n"
     ]
    }
   ],
   "source": [
    "num_11 = 15\n",
    "num_12 = 3\n",
    "num_13 = 10\n",
    "num_14 = 3\n",
    "\n",
    "# If with 'and' statements\n",
    "if num_11 / 5 == num_12 and num_13 - 7 == num_14:\n",
    "    print('True and True')\n",
    "\n",
    "#If with 'or' statements\n",
    "if num_11 > num_12 or num_13 == num_14:\n",
    "    print('True and False')"
   ]
  },
  {
   "cell_type": "markdown",
   "metadata": {},
   "source": [
    "### Elif Statements"
   ]
  },
  {
   "cell_type": "code",
   "execution_count": 25,
   "metadata": {},
   "outputs": [
    {
     "name": "stdout",
     "output_type": "stream",
     "text": [
      "The name is Max\n"
     ]
    }
   ],
   "source": [
    "first_name = 'Max'\n",
    "\n",
    "if first_name == 'Smith':\n",
    "    print(\"The name is Smith\")\n",
    "elif first_name != \"Max\":\n",
    "    print('The name is NOT Max')\n",
    "else:\n",
    "    print('The name is Max')"
   ]
  },
  {
   "cell_type": "markdown",
   "metadata": {},
   "source": [
    "### Else Statements"
   ]
  },
  {
   "cell_type": "code",
   "execution_count": null,
   "metadata": {},
   "outputs": [],
   "source": [
    "# see above"
   ]
  },
  {
   "cell_type": "markdown",
   "metadata": {},
   "source": [
    "### For Loops"
   ]
  },
  {
   "cell_type": "code",
   "execution_count": 32,
   "metadata": {},
   "outputs": [
    {
     "name": "stdout",
     "output_type": "stream",
     "text": [
      "D\n",
      "e\n",
      "v\n",
      "o\n",
      "n\n",
      " \n",
      "W\n",
      "e\n",
      "h\n",
      "r\n",
      "l\n",
      "i\n",
      "n\n"
     ]
    }
   ],
   "source": [
    "# for keyword, counter, in keyword, condition\n",
    "\n",
    "# for i in range(10):\n",
    "   # print(i)\n",
    "    \n",
    "name = \"Devon Wehrlin\"\n",
    "# for letter in name:\n",
    "   # print(letter)\n",
    "    \n",
    "for i in range(len(name)):\n",
    "    print(name[i])"
   ]
  },
  {
   "cell_type": "markdown",
   "metadata": {},
   "source": [
    "##### Using 'in' keyword"
   ]
  },
  {
   "cell_type": "code",
   "execution_count": null,
   "metadata": {},
   "outputs": [],
   "source": [
    "# see above"
   ]
  },
  {
   "cell_type": "markdown",
   "metadata": {},
   "source": [
    "##### Continue Statement"
   ]
  },
  {
   "cell_type": "code",
   "execution_count": null,
   "metadata": {},
   "outputs": [],
   "source": [
    "# will continue to next iteration"
   ]
  },
  {
   "cell_type": "code",
   "execution_count": 33,
   "metadata": {},
   "outputs": [
    {
     "name": "stdout",
     "output_type": "stream",
     "text": [
      "0\n",
      "1\n",
      "2\n",
      "3\n",
      "4\n",
      "6\n",
      "7\n",
      "8\n",
      "9\n",
      "10\n",
      "11\n",
      "12\n",
      "13\n",
      "14\n",
      "15\n",
      "16\n",
      "17\n",
      "18\n",
      "19\n"
     ]
    }
   ],
   "source": [
    "for i in range(20):\n",
    "    if i == 5:\n",
    "        continue\n",
    "    print(i)"
   ]
  },
  {
   "cell_type": "markdown",
   "metadata": {},
   "source": [
    "##### Break Statement"
   ]
  },
  {
   "cell_type": "code",
   "execution_count": null,
   "metadata": {},
   "outputs": [],
   "source": [
    "# will break out of current loop"
   ]
  },
  {
   "cell_type": "code",
   "execution_count": 34,
   "metadata": {},
   "outputs": [
    {
     "name": "stdout",
     "output_type": "stream",
     "text": [
      "0\n",
      "1\n",
      "2\n",
      "3\n",
      "4\n"
     ]
    }
   ],
   "source": [
    "for i in range(20):\n",
    "    if i == 5:\n",
    "        break\n",
    "    print(i)"
   ]
  },
  {
   "cell_type": "markdown",
   "metadata": {},
   "source": [
    "##### Pass Statement"
   ]
  },
  {
   "cell_type": "code",
   "execution_count": null,
   "metadata": {},
   "outputs": [],
   "source": [
    "# mostly used as a placeholder, and will continue on same iteration"
   ]
  },
  {
   "cell_type": "code",
   "execution_count": 36,
   "metadata": {},
   "outputs": [],
   "source": [
    "for i in name:\n",
    "    pass # TODO: come back and finish implementation"
   ]
  },
  {
   "cell_type": "markdown",
   "metadata": {},
   "source": [
    "##### Double For Loops"
   ]
  },
  {
   "cell_type": "code",
   "execution_count": 40,
   "metadata": {},
   "outputs": [
    {
     "name": "stdout",
     "output_type": "stream",
     "text": [
      "i = 0  j = 0\n",
      "i = 0  j = 1\n",
      "i = 0  j = 2\n",
      "i = 0  j = 3\n",
      "i = 0  j = 4\n",
      "i = 1  j = 0\n",
      "i = 1  j = 1\n",
      "i = 1  j = 2\n",
      "i = 1  j = 3\n",
      "i = 1  j = 4\n",
      "i = 2  j = 0\n",
      "i = 2  j = 1\n",
      "i = 2  j = 2\n",
      "i = 2  j = 3\n",
      "i = 2  j = 4\n",
      "i = 3  j = 0\n",
      "i = 3  j = 1\n",
      "i = 3  j = 2\n",
      "i = 3  j = 3\n",
      "i = 3  j = 4\n",
      "i = 4  j = 0\n",
      "i = 4  j = 1\n",
      "i = 4  j = 2\n",
      "i = 4  j = 3\n",
      "i = 4  j = 4\n"
     ]
    }
   ],
   "source": [
    "for i in range(5):\n",
    "    for j in range(5):\n",
    "        print('i =', i, ' j =', j)"
   ]
  },
  {
   "cell_type": "markdown",
   "metadata": {},
   "source": [
    "### While Loops"
   ]
  },
  {
   "cell_type": "code",
   "execution_count": 1,
   "metadata": {},
   "outputs": [
    {
     "name": "stdout",
     "output_type": "stream",
     "text": [
      "0\n",
      "1\n",
      "2\n",
      "3\n",
      "4\n",
      "5\n",
      "6\n",
      "7\n",
      "8\n",
      "9\n"
     ]
    }
   ],
   "source": [
    "# while keyword, condition statement\n",
    "# based on the condition statement\n",
    "\n",
    "num = 0 \n",
    "\n",
    "while num < 10:\n",
    "    print(num)\n",
    "    num += 1"
   ]
  },
  {
   "cell_type": "markdown",
   "metadata": {},
   "source": [
    "##### Looping 'While True'"
   ]
  },
  {
   "cell_type": "code",
   "execution_count": 2,
   "metadata": {},
   "outputs": [
    {
     "name": "stdout",
     "output_type": "stream",
     "text": [
      "infinite loop\n"
     ]
    }
   ],
   "source": [
    "game_over = False\n",
    "\n",
    "while True:\n",
    "    print('infinite loop')\n",
    "    if game_over == False:\n",
    "        break"
   ]
  },
  {
   "cell_type": "markdown",
   "metadata": {},
   "source": [
    "##### While & For Loops Used Together"
   ]
  },
  {
   "cell_type": "code",
   "execution_count": 3,
   "metadata": {},
   "outputs": [
    {
     "name": "stdout",
     "output_type": "stream",
     "text": [
      "\n",
      " While loop iteration: 0\n",
      "For loop iteration: 0\n",
      "For loop iteration: 1\n",
      "\n",
      " While loop iteration: 1\n",
      "For loop iteration: 0\n",
      "For loop iteration: 1\n",
      "\n",
      " While loop iteration: 2\n",
      "For loop iteration: 0\n",
      "For loop iteration: 1\n",
      "\n",
      " While loop iteration: 3\n",
      "For loop iteration: 0\n",
      "For loop iteration: 1\n",
      "\n",
      " While loop iteration: 4\n",
      "For loop iteration: 0\n",
      "For loop iteration: 1\n"
     ]
    }
   ],
   "source": [
    "num = 0 \n",
    "\n",
    "while num < 5:\n",
    "    print(\"\\n While loop iteration: \" + str(num))\n",
    "    for i in range(2):\n",
    "        print(\"For loop iteration: \" + str(i))\n",
    "        \n",
    "    num += 1"
   ]
  },
  {
   "cell_type": "markdown",
   "metadata": {},
   "source": [
    "### Built-In Functions"
   ]
  },
  {
   "cell_type": "markdown",
   "metadata": {},
   "source": [
    "##### range()"
   ]
  },
  {
   "cell_type": "code",
   "execution_count": 4,
   "metadata": {},
   "outputs": [
    {
     "name": "stdout",
     "output_type": "stream",
     "text": [
      "2\n",
      "4\n",
      "6\n",
      "8\n",
      "10\n",
      "12\n",
      "14\n",
      "16\n",
      "18\n"
     ]
    }
   ],
   "source": [
    "#Start, Stop, Step\n",
    "\n",
    "for i in range(2, 20, 2):\n",
    "    print(i)"
   ]
  },
  {
   "cell_type": "markdown",
   "metadata": {},
   "source": [
    "##### len()"
   ]
  },
  {
   "cell_type": "code",
   "execution_count": 5,
   "metadata": {},
   "outputs": [
    {
     "name": "stdout",
     "output_type": "stream",
     "text": [
      "4\n"
     ]
    }
   ],
   "source": [
    "#check length of a variable\n",
    "\n",
    "name = \"Max \"\n",
    "length = len(name)\n",
    "print(length)"
   ]
  },
  {
   "cell_type": "markdown",
   "metadata": {},
   "source": [
    "##### help()"
   ]
  },
  {
   "cell_type": "code",
   "execution_count": 6,
   "metadata": {},
   "outputs": [
    {
     "name": "stdout",
     "output_type": "stream",
     "text": [
      "Help on class range in module builtins:\n",
      "\n",
      "class range(object)\n",
      " |  range(stop) -> range object\n",
      " |  range(start, stop[, step]) -> range object\n",
      " |  \n",
      " |  Return an object that produces a sequence of integers from start (inclusive)\n",
      " |  to stop (exclusive) by step.  range(i, j) produces i, i+1, i+2, ..., j-1.\n",
      " |  start defaults to 0, and stop is omitted!  range(4) produces 0, 1, 2, 3.\n",
      " |  These are exactly the valid indices for a list of 4 elements.\n",
      " |  When step is given, it specifies the increment (or decrement).\n",
      " |  \n",
      " |  Methods defined here:\n",
      " |  \n",
      " |  __bool__(self, /)\n",
      " |      self != 0\n",
      " |  \n",
      " |  __contains__(self, key, /)\n",
      " |      Return key in self.\n",
      " |  \n",
      " |  __eq__(self, value, /)\n",
      " |      Return self==value.\n",
      " |  \n",
      " |  __ge__(self, value, /)\n",
      " |      Return self>=value.\n",
      " |  \n",
      " |  __getattribute__(self, name, /)\n",
      " |      Return getattr(self, name).\n",
      " |  \n",
      " |  __getitem__(self, key, /)\n",
      " |      Return self[key].\n",
      " |  \n",
      " |  __gt__(self, value, /)\n",
      " |      Return self>value.\n",
      " |  \n",
      " |  __hash__(self, /)\n",
      " |      Return hash(self).\n",
      " |  \n",
      " |  __iter__(self, /)\n",
      " |      Implement iter(self).\n",
      " |  \n",
      " |  __le__(self, value, /)\n",
      " |      Return self<=value.\n",
      " |  \n",
      " |  __len__(self, /)\n",
      " |      Return len(self).\n",
      " |  \n",
      " |  __lt__(self, value, /)\n",
      " |      Return self<value.\n",
      " |  \n",
      " |  __ne__(self, value, /)\n",
      " |      Return self!=value.\n",
      " |  \n",
      " |  __reduce__(...)\n",
      " |      Helper for pickle.\n",
      " |  \n",
      " |  __repr__(self, /)\n",
      " |      Return repr(self).\n",
      " |  \n",
      " |  __reversed__(...)\n",
      " |      Return a reverse iterator.\n",
      " |  \n",
      " |  count(...)\n",
      " |      rangeobject.count(value) -> integer -- return number of occurrences of value\n",
      " |  \n",
      " |  index(...)\n",
      " |      rangeobject.index(value) -> integer -- return index of value.\n",
      " |      Raise ValueError if the value is not present.\n",
      " |  \n",
      " |  ----------------------------------------------------------------------\n",
      " |  Static methods defined here:\n",
      " |  \n",
      " |  __new__(*args, **kwargs) from builtins.type\n",
      " |      Create and return a new object.  See help(type) for accurate signature.\n",
      " |  \n",
      " |  ----------------------------------------------------------------------\n",
      " |  Data descriptors defined here:\n",
      " |  \n",
      " |  start\n",
      " |  \n",
      " |  step\n",
      " |  \n",
      " |  stop\n",
      "\n"
     ]
    }
   ],
   "source": [
    "# Use this function to view more info about a python function (with Docstring)\n",
    "\n",
    "help(range)"
   ]
  },
  {
   "cell_type": "markdown",
   "metadata": {},
   "source": [
    "##### isinstance()"
   ]
  },
  {
   "cell_type": "code",
   "execution_count": 8,
   "metadata": {},
   "outputs": [
    {
     "name": "stdout",
     "output_type": "stream",
     "text": [
      "False\n",
      "this is a float type\n"
     ]
    }
   ],
   "source": [
    "# Check a variable to find out what Object family it belongs to\n",
    "#isinstance(var, type)\n",
    "\n",
    "print(isinstance(4.5, int))\n",
    "\n",
    "if isinstance(4.5,float):\n",
    "    print(\"this is a float type\")"
   ]
  },
  {
   "cell_type": "markdown",
   "metadata": {},
   "source": [
    "##### abs()"
   ]
  },
  {
   "cell_type": "code",
   "execution_count": 9,
   "metadata": {},
   "outputs": [
    {
     "name": "stdout",
     "output_type": "stream",
     "text": [
      "5\n"
     ]
    }
   ],
   "source": [
    "# | 5 |\n",
    "\n",
    "print(abs(-5))"
   ]
  },
  {
   "cell_type": "markdown",
   "metadata": {},
   "source": [
    "### Try and Except"
   ]
  },
  {
   "cell_type": "code",
   "execution_count": 11,
   "metadata": {},
   "outputs": [
    {
     "name": "stdout",
     "output_type": "stream",
     "text": [
      "Guess a Number 10\n",
      "Your number is : 10\n"
     ]
    }
   ],
   "source": [
    "# use whenever you expect to encounter a bug so the error doesn't cause the program to stop\n",
    "# use so you can log out graceful adn useful error messages\n",
    "\n",
    "try:\n",
    "    number_test = 0\n",
    "    input_num = int(input('Guess a Number '))\n",
    "    if input_num != number_test:\n",
    "        input_num = input_num + number_test\n",
    "        print(\"Your number is : \" + str(input_num))\n",
    "except:\n",
    "    print(\"That didn't work ----- ERROR: Change your input to a number\")"
   ]
  },
  {
   "cell_type": "markdown",
   "metadata": {},
   "source": [
    "### Lists"
   ]
  },
  {
   "cell_type": "markdown",
   "metadata": {},
   "source": [
    "##### Declaring Lists"
   ]
  },
  {
   "cell_type": "code",
   "execution_count": 13,
   "metadata": {},
   "outputs": [
    {
     "name": "stdout",
     "output_type": "stream",
     "text": [
      "['rony', 'blair', 'ally', 'alpha ryan', 'bob']\n"
     ]
    }
   ],
   "source": [
    "l_l = [] #empty list declaration\n",
    "\n",
    "names = ['rony', 'blair', 'ally', 'alpha ryan', 'bob']\n",
    "print(names)"
   ]
  },
  {
   "cell_type": "markdown",
   "metadata": {},
   "source": [
    "##### Indexing a List"
   ]
  },
  {
   "cell_type": "code",
   "execution_count": 18,
   "metadata": {},
   "outputs": [
    {
     "name": "stdout",
     "output_type": "stream",
     "text": [
      "rony\n",
      "['blair', 'ally', 'alpha ryan', 'bob']\n",
      "['rony', 'blair']\n",
      "['blair', 'alpha ryan']\n",
      "['bob', 'alpha ryan', 'ally', 'blair', 'rony']\n"
     ]
    }
   ],
   "source": [
    "#[start: stop: step] -- [-1]\n",
    "\n",
    "#single index\n",
    "print(names[0])\n",
    "\n",
    "#print starting at index 1 going to the end\n",
    "print(names[1:])\n",
    "\n",
    "#print starting at the beginning of a list to N (n == the number we want to stop at)\n",
    "print(names[:2])\n",
    "\n",
    "#print starting at index 1 going up by 2 in each iteration\n",
    "print(names[1::2])\n",
    "\n",
    "#print start from the back and present in reverse order\n",
    "print(names[::-1])"
   ]
  },
  {
   "cell_type": "markdown",
   "metadata": {},
   "source": [
    "##### .append()"
   ]
  },
  {
   "cell_type": "code",
   "execution_count": 19,
   "metadata": {},
   "outputs": [
    {
     "name": "stdout",
     "output_type": "stream",
     "text": [
      "['rony', 'blair', 'ally', 'alpha ryan', 'bob', 'Joel AKA Zordon']\n"
     ]
    }
   ],
   "source": [
    "names.append('Joel AKA Zordon')\n",
    "print(names)"
   ]
  },
  {
   "cell_type": "markdown",
   "metadata": {},
   "source": [
    "##### .insert()"
   ]
  },
  {
   "cell_type": "code",
   "execution_count": 20,
   "metadata": {},
   "outputs": [
    {
     "name": "stdout",
     "output_type": "stream",
     "text": [
      "['rony', 'blair', 'ally', 'Steve', 'alpha ryan', 'bob', 'Joel AKA Zordon']\n"
     ]
    }
   ],
   "source": [
    "# list.insert(index, value)\n",
    "\n",
    "names.insert(3, 'Steve')\n",
    "print(names)"
   ]
  },
  {
   "cell_type": "markdown",
   "metadata": {},
   "source": [
    "##### .pop()"
   ]
  },
  {
   "cell_type": "code",
   "execution_count": 22,
   "metadata": {},
   "outputs": [
    {
     "name": "stdout",
     "output_type": "stream",
     "text": [
      "Joel AKA Zordon\n",
      "ally\n"
     ]
    }
   ],
   "source": [
    "# default is the last value if no parameter is given\n",
    "#pop returns the element that was removed in case you want to assign it to a variable\n",
    "\n",
    "# a_name = names.pop()\n",
    "print(a_name)\n",
    "\n",
    "print(names.pop(2))"
   ]
  },
  {
   "cell_type": "markdown",
   "metadata": {},
   "source": [
    "\n",
    "##### .remove()"
   ]
  },
  {
   "cell_type": "code",
   "execution_count": 25,
   "metadata": {},
   "outputs": [
    {
     "name": "stdout",
     "output_type": "stream",
     "text": [
      "['rony', 'blair', 'Steve', 'alpha ryan']\n",
      "['blair', 'Steve', 'alpha ryan']\n"
     ]
    }
   ],
   "source": [
    "# value to be removed, not index\n",
    "\n",
    "#names.remove(\"bob\")\n",
    "print(names)\n",
    "\n",
    "# remove multiple bobs out of the list\n",
    "while \"rony\" in names:\n",
    "    names.remove(\"rony\")\n",
    "print(names)"
   ]
  },
  {
   "cell_type": "markdown",
   "metadata": {},
   "source": [
    "##### del()"
   ]
  },
  {
   "cell_type": "code",
   "execution_count": 26,
   "metadata": {},
   "outputs": [
    {
     "name": "stdout",
     "output_type": "stream",
     "text": [
      "['blair', 'alpha ryan']\n"
     ]
    }
   ],
   "source": [
    "# index to be removed, not value\n",
    "#be careful with del, can cause indexing errors if not used carefully\n",
    "\n",
    "del(names[1])\n",
    "print(names)"
   ]
  },
  {
   "cell_type": "markdown",
   "metadata": {},
   "source": [
    "##### Concatenating Two Lists"
   ]
  },
  {
   "cell_type": "code",
   "execution_count": 27,
   "metadata": {},
   "outputs": [
    {
     "name": "stdout",
     "output_type": "stream",
     "text": [
      "[0, 1, 2, 3, 4, 5]\n"
     ]
    }
   ],
   "source": [
    "# will append two lists together, not add up the elements in each list\n",
    "\n",
    "l_2 = [0, 1, 2]\n",
    "l_3 = [3, 4, 5]\n",
    "\n",
    "large_list = l_2 + l_3\n",
    "print(large_list)"
   ]
  },
  {
   "cell_type": "markdown",
   "metadata": {},
   "source": [
    "##### Lists Within Lists"
   ]
  },
  {
   "cell_type": "code",
   "execution_count": 30,
   "metadata": {},
   "outputs": [
    {
     "name": "stdout",
     "output_type": "stream",
     "text": [
      "['Max', 'Sam', 'Josh', ['Sally', 'Sue', 'Tamkeka']]\n",
      "Sue\n"
     ]
    }
   ],
   "source": [
    "# Lists are able to hold any type of element, including other lists themselves\n",
    "# they can also go as deep as you want, having many listed nested inside of each other\n",
    "\n",
    "names = [\"Max\", \"Sam\", \"Josh\", [\"Sally\",\"Sue\", \"Tamkeka\"]]\n",
    "print(names)\n",
    "\n",
    "print(names[3][1])"
   ]
  },
  {
   "cell_type": "markdown",
   "metadata": {},
   "source": [
    "##### Looping Through Lists"
   ]
  },
  {
   "cell_type": "code",
   "execution_count": 33,
   "metadata": {},
   "outputs": [
    {
     "name": "stdout",
     "output_type": "stream",
     "text": [
      "Max\n",
      "Sam\n",
      "Josh\n",
      "['Sally', 'Sue', 'Tamkeka']\n",
      "Max\n",
      "Sam\n",
      "Josh\n",
      "['Sally', 'Sue', 'Tamkeka']\n",
      "the index is 0 and the value is Max\n",
      "the index is 1 and the value is Sam\n",
      "the index is 2 and the value is Josh\n",
      "the index is 3 and the value is ['Sally', 'Sue', 'Tamkeka']\n"
     ]
    }
   ],
   "source": [
    "#two ways to loop through a list:\n",
    "#one by indexing\n",
    "#other by using 'in' keyword\n",
    "\n",
    "#Looping with for loop (by index)\n",
    "for i in range(len(names)):\n",
    "    print(names[i])\n",
    "    \n",
    "#Looping with for loop (using 'in')\n",
    "for i in names:\n",
    "    print(i)\n",
    "\n",
    "#looping with enumerate\n",
    "for index, value in enumerate(names):\n",
    "    print(f'the index is {index} and the value is {value}')"
   ]
  },
  {
   "cell_type": "markdown",
   "metadata": {},
   "source": [
    "## Exercise #1 <br>\n",
    "<p>Cube Number Test... Print out all cubed numbers up to the total value 1000. Meaning that if the cubed number is over 1000 break the loop.</p>"
   ]
  },
  {
   "cell_type": "code",
   "execution_count": 16,
   "metadata": {},
   "outputs": [
    {
     "name": "stdout",
     "output_type": "stream",
     "text": [
      "1\n",
      "8\n",
      "27\n",
      "64\n",
      "125\n",
      "216\n",
      "343\n",
      "512\n",
      "729\n",
      "1000\n"
     ]
    }
   ],
   "source": [
    "for number in range(1, 1000):\n",
    "    cubed = number * number * number\n",
    "    if cubed > 1000:\n",
    "        break\n",
    "    print(cubed)\n",
    "\n",
    "\n",
    "    "
   ]
  },
  {
   "cell_type": "markdown",
   "metadata": {},
   "source": [
    "## Exercise #2 <br>\n",
    "<p>Get first prime numbers up to 100</p>"
   ]
  },
  {
   "cell_type": "code",
   "execution_count": 59,
   "metadata": {},
   "outputs": [
    {
     "name": "stdout",
     "output_type": "stream",
     "text": [
      "2\n",
      "3\n",
      "5\n",
      "7\n",
      "11\n",
      "13\n",
      "17\n",
      "19\n",
      "23\n",
      "29\n",
      "31\n",
      "37\n",
      "41\n",
      "43\n",
      "47\n",
      "53\n",
      "59\n",
      "61\n",
      "67\n",
      "71\n",
      "73\n",
      "79\n",
      "83\n",
      "89\n",
      "97\n"
     ]
    }
   ],
   "source": [
    "# HINT::\n",
    "# An else after an if runs if the if didn’t\n",
    "# An else after a for runs if the for didn’t break\n",
    "number = 2\n",
    "\n",
    "while number < 101:\n",
    "    for i in range(2, number):\n",
    "        if (number % i) == 0:\n",
    "            break    \n",
    "    else:\n",
    "        print(number)\n",
    "    number += 1\n",
    "\n"
   ]
  },
  {
   "cell_type": "markdown",
   "metadata": {},
   "source": [
    "# Exercise 3 <br>\n",
    "<p>Take in a users input for their age, if they are younger than 18 print kids, if they're 18 to 65 print adults, else print seniors</p>"
   ]
  },
  {
   "cell_type": "code",
   "execution_count": 43,
   "metadata": {},
   "outputs": [
    {
     "name": "stdout",
     "output_type": "stream",
     "text": [
      "What is your age? 0\n",
      "You are a kid!\n"
     ]
    }
   ],
   "source": [
    "age = int(input('What is your age? '))\n",
    "\n",
    "if age >= 0 and age <= 17:\n",
    "    print(\"You are a kid!\")\n",
    "elif age > 17 and age <= 65:\n",
    "    print(\"You are an adult!\")\n",
    "elif age > 65:\n",
    "    print(\"You are a senior!\")\n",
    "else:\n",
    "    print('Are you sure you are that old?')\n"
   ]
  },
  {
   "cell_type": "code",
   "execution_count": null,
   "metadata": {},
   "outputs": [],
   "source": []
  }
 ],
 "metadata": {
  "kernelspec": {
   "display_name": "Python 3",
   "language": "python",
   "name": "python3"
  },
  "language_info": {
   "codemirror_mode": {
    "name": "ipython",
    "version": 3
   },
   "file_extension": ".py",
   "mimetype": "text/x-python",
   "name": "python",
   "nbconvert_exporter": "python",
   "pygments_lexer": "ipython3",
   "version": "3.8.5"
  }
 },
 "nbformat": 4,
 "nbformat_minor": 2
}
